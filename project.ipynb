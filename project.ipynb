{
 "cells": [
  {
   "cell_type": "code",
   "execution_count": 11,
   "metadata": {},
   "outputs": [],
   "source": [
    "import pandas as pd\n",
    "import numpy as np\n",
    "from sklearn.model_selection import train_test_split\n",
    "from sklearn.feature_extraction.text import TfidfVectorizer\n",
    "from sklearn.linear_model import LogisticRegression\n",
    "from sklearn.metrics import accuracy_score, classification_report"
   ]
  },
  {
   "cell_type": "code",
   "execution_count": 12,
   "metadata": {},
   "outputs": [],
   "source": [
    "cleaned_data = pd.read_csv('data/cleaned.csv')"
   ]
  },
  {
   "cell_type": "code",
   "execution_count": 14,
   "metadata": {},
   "outputs": [
    {
     "name": "stdout",
     "output_type": "stream",
     "text": [
      "Count of 'I': 80677\n",
      "Count of 'E': 25390\n"
     ]
    },
    {
     "data": {
      "text/plain": [
       "53580    yeah quit like idea actual think could number ...\n",
       "53581    idea thing thing valu other perceiv relev what...\n",
       "53582    respect say year sound bite silli might soft r...\n",
       "53583    interact unavoid wit student internship pro bo...\n",
       "53584    core probabl see relationship work also sound ...\n",
       "53585    golden retriev ever got ta take walk sometim t...\n",
       "53586    agre hop someon alreadi type ye obvious differ...\n",
       "53587    wish well pm need someon talk ask question hmm...\n",
       "53588    tempera question find easi lay around day rela...\n",
       "53589    associ high ti xntp lot intellectu willpow xst...\n",
       "Name: posts, dtype: object"
      ]
     },
     "execution_count": 14,
     "metadata": {},
     "output_type": "execute_result"
    }
   ],
   "source": [
    "type_counts = cleaned_data['type'].value_counts()\n",
    "print(f\"Count of 'I': {type_counts.get('I', 0)}\")\n",
    "print(f\"Count of 'E': {type_counts.get('E', 0)}\")\n",
    "\n",
    "cleaned_data[cleaned_data['type'] == 'E']['posts'].head(10)"
   ]
  },
  {
   "cell_type": "code",
   "execution_count": null,
   "metadata": {},
   "outputs": [],
   "source": [
    "import pandas as pd\n",
    "import textstat\n",
    "from collections import Counter\n",
    "import re\n",
    "\n",
    "# Load CSV dataset\n",
    "old_dataset = pd.read_csv('old_dataset.csv')  # Path to your old dataset\n",
    "new_dataset = pd.read_csv('new_dataset.csv')  # Path to your current dataset\n",
    "\n",
    "# Assuming both datasets have a 'text' column\n",
    "old_text = \" \".join(old_dataset['text'].dropna())  # Join all text data into one string\n",
    "new_text = \" \".join(new_dataset['text'].dropna())  # Join all text data into one string\n"
   ]
  },
  {
   "cell_type": "code",
   "execution_count": 6,
   "metadata": {},
   "outputs": [],
   "source": [
    "cleaned_data['type'] = cleaned_data['type'].map({'I': 0, 'E': 1})"
   ]
  },
  {
   "cell_type": "code",
   "execution_count": 7,
   "metadata": {},
   "outputs": [],
   "source": [
    "# Split dataset into training and testing sets\n",
    "X_train, X_test, y_train, y_test = train_test_split(cleaned_data['posts'], cleaned_data['type'], test_size=0.2, random_state=42)\n",
    "\n",
    "# Convert text data into TF-IDF features\n",
    "vectorizer = TfidfVectorizer(stop_words='english', max_features=5000)\n",
    "X_train_tfidf = vectorizer.fit_transform(X_train)\n",
    "X_test_tfidf = vectorizer.transform(X_test)"
   ]
  },
  {
   "cell_type": "code",
   "execution_count": 8,
   "metadata": {},
   "outputs": [
    {
     "name": "stdout",
     "output_type": "stream",
     "text": [
      "Accuracy: 0.9002\n",
      "Classification Report:\n",
      "              precision    recall  f1-score   support\n",
      "\n",
      "           0       0.91      0.96      0.94     16134\n",
      "           1       0.86      0.70      0.77      5080\n",
      "\n",
      "    accuracy                           0.90     21214\n",
      "   macro avg       0.88      0.83      0.85     21214\n",
      "weighted avg       0.90      0.90      0.90     21214\n",
      "\n"
     ]
    }
   ],
   "source": [
    "# Train logistic regression model\n",
    "model = LogisticRegression()\n",
    "model.fit(X_train_tfidf, y_train)\n",
    "\n",
    "# Make predictions\n",
    "y_pred = model.predict(X_test_tfidf)\n",
    "\n",
    "# Evaluate the model\n",
    "accuracy = accuracy_score(y_test, y_pred)\n",
    "print(f\"Accuracy: {accuracy:.4f}\")\n",
    "print(\"Classification Report:\")\n",
    "print(classification_report(y_test, y_pred))"
   ]
  },
  {
   "cell_type": "code",
   "execution_count": 9,
   "metadata": {},
   "outputs": [],
   "source": [
    "def predict_mbti(post):\n",
    "    post_tfidf = vectorizer.transform([post])\n",
    "    prediction = model.predict(post_tfidf)[0]\n",
    "    return 'E' if prediction == 1 else 'I'\n",
    "\n",
    "# Example usage\n",
    "# user_post = \"i always go outside see how world is \"\n",
    "# print(f\"Predicted MBTI type: {predict_mbti(user_post)}\")"
   ]
  },
  {
   "cell_type": "code",
   "execution_count": 10,
   "metadata": {},
   "outputs": [
    {
     "name": "stderr",
     "output_type": "stream",
     "text": [
      "2025-03-05 13:51:24.611 WARNING streamlit.runtime.scriptrunner_utils.script_run_context: Thread 'MainThread': missing ScriptRunContext! This warning can be ignored when running in bare mode.\n",
      "2025-03-05 13:51:24.821 \n",
      "  \u001b[33m\u001b[1mWarning:\u001b[0m to view this Streamlit app on a browser, run it with the following\n",
      "  command:\n",
      "\n",
      "    streamlit run C:\\Users\\24746\\AppData\\Roaming\\Python\\Python312\\site-packages\\ipykernel_launcher.py [ARGUMENTS]\n",
      "2025-03-05 13:51:24.821 Thread 'MainThread': missing ScriptRunContext! This warning can be ignored when running in bare mode.\n",
      "2025-03-05 13:51:24.821 Thread 'MainThread': missing ScriptRunContext! This warning can be ignored when running in bare mode.\n",
      "2025-03-05 13:51:24.821 Thread 'MainThread': missing ScriptRunContext! This warning can be ignored when running in bare mode.\n",
      "2025-03-05 13:51:24.821 Thread 'MainThread': missing ScriptRunContext! This warning can be ignored when running in bare mode.\n",
      "2025-03-05 13:51:24.821 Thread 'MainThread': missing ScriptRunContext! This warning can be ignored when running in bare mode.\n",
      "2025-03-05 13:51:24.821 Thread 'MainThread': missing ScriptRunContext! This warning can be ignored when running in bare mode.\n",
      "2025-03-05 13:51:24.821 Thread 'MainThread': missing ScriptRunContext! This warning can be ignored when running in bare mode.\n",
      "2025-03-05 13:51:24.821 Thread 'MainThread': missing ScriptRunContext! This warning can be ignored when running in bare mode.\n",
      "2025-03-05 13:51:24.821 Thread 'MainThread': missing ScriptRunContext! This warning can be ignored when running in bare mode.\n",
      "2025-03-05 13:51:24.821 Session state does not function when running a script without `streamlit run`\n",
      "2025-03-05 13:51:24.821 Thread 'MainThread': missing ScriptRunContext! This warning can be ignored when running in bare mode.\n",
      "2025-03-05 13:51:24.821 Thread 'MainThread': missing ScriptRunContext! This warning can be ignored when running in bare mode.\n",
      "2025-03-05 13:51:24.821 Thread 'MainThread': missing ScriptRunContext! This warning can be ignored when running in bare mode.\n",
      "2025-03-05 13:51:24.821 Thread 'MainThread': missing ScriptRunContext! This warning can be ignored when running in bare mode.\n",
      "2025-03-05 13:51:24.837 Thread 'MainThread': missing ScriptRunContext! This warning can be ignored when running in bare mode.\n",
      "2025-03-05 13:51:24.837 Thread 'MainThread': missing ScriptRunContext! This warning can be ignored when running in bare mode.\n",
      "2025-03-05 13:51:24.837 Thread 'MainThread': missing ScriptRunContext! This warning can be ignored when running in bare mode.\n"
     ]
    }
   ],
   "source": [
    "import streamlit as st\n",
    "\n",
    "# Streamlit UI\n",
    "st.title(\"MBTI Personality Predictor\")\n",
    "st.write(\"Enter a post to predict whether the author is an Introvert (I) or Extrovert (E)\")\n",
    "\n",
    "user_input = st.text_area(\"Enter your post here:\")\n",
    "if st.button(\"Predict\"):\n",
    "    if user_input.strip():\n",
    "        result = predict_mbti(user_input)\n",
    "        st.write(f\"Predicted MBTI type: {result}\")\n",
    "    else:\n",
    "        st.write(\"Please enter a post to get a prediction.\")"
   ]
  }
 ],
 "metadata": {
  "kernelspec": {
   "display_name": "nlp",
   "language": "python",
   "name": "python3"
  },
  "language_info": {
   "codemirror_mode": {
    "name": "ipython",
    "version": 3
   },
   "file_extension": ".py",
   "mimetype": "text/x-python",
   "name": "python",
   "nbconvert_exporter": "python",
   "pygments_lexer": "ipython3",
   "version": "3.12.3"
  }
 },
 "nbformat": 4,
 "nbformat_minor": 2
}
